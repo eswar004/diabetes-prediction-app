{
  "nbformat": 4,
  "nbformat_minor": 0,
  "metadata": {
    "colab": {
      "provenance": []
    },
    "kernelspec": {
      "name": "python3",
      "display_name": "Python 3"
    },
    "language_info": {
      "name": "python"
    }
  },
  "cells": [
    {
      "cell_type": "code",
      "execution_count": 9,
      "metadata": {
        "id": "rVp_LtMIdx8R"
      },
      "outputs": [],
      "source": [
        "!pip install streamlit pyngrok --quiet\n"
      ]
    },
    {
      "cell_type": "code",
      "source": [
        "from pyngrok import ngrok\n",
        "\n",
        "# Replace with your ngrok authtoken\n",
        "!ngrok config add-authtoken 31kKEp2ycSPxOW0X53VvX4RaB0t_qikf8mZ5zED9uGR69eXA\n",
        "\n",
        "# Kill previous tunnels if any\n",
        "ngrok.kill()\n",
        "\n",
        "# Expose Streamlit port 8501\n",
        "public_url = ngrok.connect(8501)\n",
        "print(\"Streamlit app URL:\", public_url)"
      ],
      "metadata": {
        "colab": {
          "base_uri": "https://localhost:8080/"
        },
        "id": "FATTbfjwd3lg",
        "outputId": "7940a007-292e-41cb-b04d-15ae06a8f70c"
      },
      "execution_count": 11,
      "outputs": [
        {
          "output_type": "stream",
          "name": "stdout",
          "text": [
            "Authtoken saved to configuration file: /root/.config/ngrok/ngrok.yml\n",
            "Streamlit app URL: NgrokTunnel: \"https://d34075e9704f.ngrok-free.app\" -> \"http://localhost:8501\"\n"
          ]
        }
      ]
    },
    {
      "cell_type": "code",
      "source": [
        "!streamlit run diabetes_app.py --server.port 8501 &>/dev/null&\n"
      ],
      "metadata": {
        "id": "dVvM6RFld4Ku"
      },
      "execution_count": 12,
      "outputs": []
    }
  ]
}